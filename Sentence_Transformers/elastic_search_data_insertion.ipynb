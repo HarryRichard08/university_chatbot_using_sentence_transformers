{
 "cells": [
  {
   "cell_type": "code",
   "execution_count": 157,
   "id": "106c0891",
   "metadata": {},
   "outputs": [
    {
     "name": "stdout",
     "output_type": "stream",
     "text": [
      "CSV file saved as english.csv\n"
     ]
    }
   ],
   "source": [
    "import pandas as pd\n",
    "\n",
    "# Data in a conversational tone for a chatbot response\n",
    "data =[\n",
    "  {\n",
    "    \"Section\": \"Improving Academic English\",\n",
    "    \"Content\": \"Want to get more comfortable with academic English? Our classes are specially tailored to boost your language and communication skills for the academic challenges ahead. It's all about giving you the support you need to thrive in your English-language studies.\",\n",
    "    \"Tags\": [\"English improvement\", \"academic support\", \"language skills\"],\n",
    "    \"Category\": \"Language Services\",\n",
    "    \"URL\": \"https://www.dundee.ac.uk/subjects/english-international-students\"\n",
    "  },\n",
    "  {\n",
    "    \"Section\": \"Accessing Language Support\",\n",
    "    \"Content\": \"Dive into the world of English language support with our free EIS (English for International Students) classes. Scan the QR code or visit our website to start your journey to language mastery!\",\n",
    "    \"Tags\": [\"EIS\", \"free classes\", \"English language support\"],\n",
    "    \"Category\": \"Language Services\",\n",
    "    \"URL\": \"https://www.dundee.ac.uk/subjects/english-international-students\"\n",
    "  },\n",
    "  {\n",
    "    \"Section\": \"Contact for English Support\",\n",
    "    \"Content\": \"Questions about our English language classes? We're just an email away. Reach out to eis@dundee.ac.uk and let's chat about how we can help you with your English.\",\n",
    "    \"Tags\": [\"contact\", \"EIS\", \"language help\"],\n",
    "    \"Category\": \"Language Services\",\n",
    "    \"URL\": \"https://www.dundee.ac.uk/subjects/english-international-students\"\n",
    "  }\n",
    "]\n",
    "\n",
    "\n",
    "# Create a DataFrame\n",
    "df = pd.DataFrame(data)\n",
    "\n",
    "# Define the path for the new CSV file\n",
    "csv_file_path = 'english.csv'\n",
    "\n",
    "# Save the DataFrame as a CSV file\n",
    "df.to_csv(csv_file_path, index=False)\n",
    "\n",
    "print(f\"CSV file saved as {csv_file_path}\")\n"
   ]
  },
  {
   "cell_type": "code",
   "execution_count": null,
   "id": "10762aac",
   "metadata": {},
   "outputs": [],
   "source": []
  },
  {
   "cell_type": "code",
   "execution_count": 2,
   "id": "bede840e",
   "metadata": {},
   "outputs": [
    {
     "name": "stdout",
     "output_type": "stream",
     "text": [
      "Connected to Elasticsearch\n",
      "Elasticsearch cluster info: {'name': 'DESKTOP-18UQJ9N', 'cluster_name': 'elasticsearch', 'cluster_uuid': '2VIucQwzRL6EX0wkc-pa0g', 'version': {'number': '7.17.14', 'build_flavor': 'default', 'build_type': 'zip', 'build_hash': '774e3bfa4d52e2834e4d9d8d669d77e4e5c1017f', 'build_date': '2023-10-05T22:17:33.780167078Z', 'build_snapshot': False, 'lucene_version': '8.11.1', 'minimum_wire_compatibility_version': '6.8.0', 'minimum_index_compatibility_version': '6.0.0-beta1'}, 'tagline': 'You Know, for Search'}\n"
     ]
    },
    {
     "name": "stderr",
     "output_type": "stream",
     "text": [
      "C:\\Users\\user\\anaconda3\\lib\\site-packages\\elasticsearch\\connection\\base.py:208: ElasticsearchWarning: Elasticsearch built-in security features are not enabled. Without authentication, your cluster could be accessible to anyone. See https://www.elastic.co/guide/en/elasticsearch/reference/7.17/security-minimal-setup.html to enable security.\n",
      "  warnings.warn(message, category=ElasticsearchWarning)\n"
     ]
    }
   ],
   "source": [
    "from elasticsearch import Elasticsearch\n",
    "\n",
    "# Connect to the Elasticsearch server\n",
    "es = Elasticsearch(\"http://localhost:9200\")\n",
    "\n",
    "# Check if the connection is successful\n",
    "if es.ping():\n",
    "    print(\"Connected to Elasticsearch\")\n",
    "else:\n",
    "    print(\"Could not connect to Elasticsearch\")\n",
    "\n",
    "# Get information about the cluster\n",
    "info = es.info()\n",
    "print(\"Elasticsearch cluster info:\", info)\n"
   ]
  },
  {
   "cell_type": "code",
   "execution_count": null,
   "id": "39495b0e",
   "metadata": {},
   "outputs": [],
   "source": []
  },
  {
   "cell_type": "code",
   "execution_count": null,
   "id": "76541866",
   "metadata": {},
   "outputs": [],
   "source": []
  },
  {
   "cell_type": "code",
   "execution_count": 36,
   "id": "adb8f4bc",
   "metadata": {},
   "outputs": [
    {
     "name": "stdout",
     "output_type": "stream",
     "text": [
      "{'acknowledged': True, 'shards_acknowledged': True, 'index': 'university-info'}\n"
     ]
    }
   ],
   "source": [
    "from elasticsearch import Elasticsearch\n",
    "\n",
    "\n",
    "es = Elasticsearch(\"http://localhost:9200\")\n",
    "\n",
    "\n",
    "index_settings = {\n",
    "    \"settings\": {\n",
    "        \"number_of_shards\": 1, \n",
    "        \"number_of_replicas\": 1  \n",
    "    },\n",
    "    \"mappings\": {\n",
    "        \"properties\": {\n",
    "            \"Section\": {\n",
    "                \"type\": \"text\"\n",
    "            },\n",
    "            \"Content\": {\n",
    "                \"type\": \"text\"\n",
    "            },\n",
    "            \"Tags\": {\n",
    "                \"type\": \"text\"  \n",
    "            },\n",
    "            \"Category\": {\n",
    "                \"type\": \"keyword\"\n",
    "            },\n",
    "            \"URL\": {\n",
    "                \"type\": \"keyword\"  \n",
    "            },\n",
    "            \"embedding\": {\n",
    "                \"type\": \"dense_vector\",\n",
    "                \"dims\": 384  \n",
    "            }\n",
    "        }\n",
    "    }\n",
    "}\n",
    "\n",
    "# Name of the index\n",
    "index_name = \"university-info\"\n",
    "\n",
    "# Creating the index\n",
    "response = es.indices.create(index=index_name, body=index_settings)\n",
    "print(response)\n"
   ]
  },
  {
   "cell_type": "code",
   "execution_count": null,
   "id": "ac80de50",
   "metadata": {},
   "outputs": [],
   "source": []
  },
  {
   "cell_type": "code",
   "execution_count": null,
   "id": "6d5e2f83",
   "metadata": {},
   "outputs": [],
   "source": []
  },
  {
   "cell_type": "code",
   "execution_count": null,
   "id": "9570bc05",
   "metadata": {},
   "outputs": [],
   "source": []
  },
  {
   "cell_type": "code",
   "execution_count": 6,
   "id": "ab2ed467",
   "metadata": {},
   "outputs": [],
   "source": [
    "from elasticsearch import Elasticsearch\n",
    "import pandas as pd\n",
    "from sentence_transformers import SentenceTransformer"
   ]
  },
  {
   "cell_type": "code",
   "execution_count": 55,
   "id": "d785bbf9",
   "metadata": {},
   "outputs": [],
   "source": [
    "es = Elasticsearch(\"http://localhost:9200\")"
   ]
  },
  {
   "cell_type": "code",
   "execution_count": 56,
   "id": "5caaf0de",
   "metadata": {},
   "outputs": [],
   "source": [
    "model = SentenceTransformer('all-MiniLM-L6-v2')"
   ]
  },
  {
   "cell_type": "code",
   "execution_count": 158,
   "id": "ba37689d",
   "metadata": {},
   "outputs": [],
   "source": [
    "df = pd.read_csv(r'english.csv')"
   ]
  },
  {
   "cell_type": "code",
   "execution_count": 159,
   "id": "ad270b03",
   "metadata": {},
   "outputs": [
    {
     "data": {
      "text/html": [
       "<div>\n",
       "<style scoped>\n",
       "    .dataframe tbody tr th:only-of-type {\n",
       "        vertical-align: middle;\n",
       "    }\n",
       "\n",
       "    .dataframe tbody tr th {\n",
       "        vertical-align: top;\n",
       "    }\n",
       "\n",
       "    .dataframe thead th {\n",
       "        text-align: right;\n",
       "    }\n",
       "</style>\n",
       "<table border=\"1\" class=\"dataframe\">\n",
       "  <thead>\n",
       "    <tr style=\"text-align: right;\">\n",
       "      <th></th>\n",
       "      <th>Section</th>\n",
       "      <th>Content</th>\n",
       "      <th>Tags</th>\n",
       "      <th>Category</th>\n",
       "      <th>URL</th>\n",
       "    </tr>\n",
       "  </thead>\n",
       "  <tbody>\n",
       "    <tr>\n",
       "      <th>0</th>\n",
       "      <td>Improving Academic English</td>\n",
       "      <td>Want to get more comfortable with academic Eng...</td>\n",
       "      <td>['English improvement', 'academic support', 'l...</td>\n",
       "      <td>Language Services</td>\n",
       "      <td>https://www.dundee.ac.uk/subjects/english-inte...</td>\n",
       "    </tr>\n",
       "    <tr>\n",
       "      <th>1</th>\n",
       "      <td>Accessing Language Support</td>\n",
       "      <td>Dive into the world of English language suppor...</td>\n",
       "      <td>['EIS', 'free classes', 'English language supp...</td>\n",
       "      <td>Language Services</td>\n",
       "      <td>https://www.dundee.ac.uk/subjects/english-inte...</td>\n",
       "    </tr>\n",
       "    <tr>\n",
       "      <th>2</th>\n",
       "      <td>Contact for English Support</td>\n",
       "      <td>Questions about our English language classes? ...</td>\n",
       "      <td>['contact', 'EIS', 'language help']</td>\n",
       "      <td>Language Services</td>\n",
       "      <td>https://www.dundee.ac.uk/subjects/english-inte...</td>\n",
       "    </tr>\n",
       "  </tbody>\n",
       "</table>\n",
       "</div>"
      ],
      "text/plain": [
       "                       Section  \\\n",
       "0   Improving Academic English   \n",
       "1   Accessing Language Support   \n",
       "2  Contact for English Support   \n",
       "\n",
       "                                             Content  \\\n",
       "0  Want to get more comfortable with academic Eng...   \n",
       "1  Dive into the world of English language suppor...   \n",
       "2  Questions about our English language classes? ...   \n",
       "\n",
       "                                                Tags           Category  \\\n",
       "0  ['English improvement', 'academic support', 'l...  Language Services   \n",
       "1  ['EIS', 'free classes', 'English language supp...  Language Services   \n",
       "2                ['contact', 'EIS', 'language help']  Language Services   \n",
       "\n",
       "                                                 URL  \n",
       "0  https://www.dundee.ac.uk/subjects/english-inte...  \n",
       "1  https://www.dundee.ac.uk/subjects/english-inte...  \n",
       "2  https://www.dundee.ac.uk/subjects/english-inte...  "
      ]
     },
     "execution_count": 159,
     "metadata": {},
     "output_type": "execute_result"
    }
   ],
   "source": [
    "df"
   ]
  },
  {
   "cell_type": "code",
   "execution_count": 77,
   "id": "5176cc19",
   "metadata": {},
   "outputs": [],
   "source": [
    "def text_to_embedding(text):\n",
    "    return model.encode(text).tolist()"
   ]
  },
  {
   "cell_type": "code",
   "execution_count": 78,
   "id": "5d6fdd49",
   "metadata": {},
   "outputs": [],
   "source": [
    "def index_data(doc):\n",
    "    res = es.index(index=\"university-info\", body=doc)\n",
    "    return res"
   ]
  },
  {
   "cell_type": "code",
   "execution_count": null,
   "id": "4ae56d7e",
   "metadata": {},
   "outputs": [],
   "source": []
  },
  {
   "cell_type": "code",
   "execution_count": 160,
   "id": "902c20d5",
   "metadata": {},
   "outputs": [
    {
     "name": "stderr",
     "output_type": "stream",
     "text": [
      "C:\\Users\\user\\anaconda3\\lib\\site-packages\\elasticsearch\\connection\\base.py:208: ElasticsearchWarning: Elasticsearch built-in security features are not enabled. Without authentication, your cluster could be accessible to anyone. See https://www.elastic.co/guide/en/elasticsearch/reference/7.17/security-minimal-setup.html to enable security.\n",
      "  warnings.warn(message, category=ElasticsearchWarning)\n"
     ]
    },
    {
     "name": "stdout",
     "output_type": "stream",
     "text": [
      "Document indexed, ID: YmW2o44BAPln75ubcjjJ\n",
      "Document indexed, ID: Y2W2o44BAPln75ubdThf\n",
      "Document indexed, ID: ZGW2o44BAPln75ubeDg2\n"
     ]
    }
   ],
   "source": [
    "for index, row in df.iterrows():\n",
    "    doc = {\n",
    "        \"Section\": row['Section'],\n",
    "        \"Content\": row['Content'],\n",
    "        \"Tags\": row['Tags'].split(', '),  # Assuming tags are separated by commas\n",
    "        \"Category\": row['Category'],\n",
    "        \"URL\": row['URL'],  # Adding the URL field\n",
    "        # Assume you have a function text_to_embedding() that converts text to an embedding\n",
    "        \"embedding\": text_to_embedding(row['Content'])  # Convert 'Content' into an embedding\n",
    "    }\n",
    "    # Assuming index_data is a function that indexes the document in Elasticsearch\n",
    "    response = index_data(doc)\n",
    "    print(f\"Document indexed, ID: {response['_id']}\")\n"
   ]
  },
  {
   "cell_type": "code",
   "execution_count": null,
   "id": "e8d49d68",
   "metadata": {},
   "outputs": [],
   "source": []
  },
  {
   "cell_type": "code",
   "execution_count": null,
   "id": "b99fb7cc",
   "metadata": {},
   "outputs": [],
   "source": []
  },
  {
   "cell_type": "code",
   "execution_count": null,
   "id": "f3dd7449",
   "metadata": {},
   "outputs": [],
   "source": [
    "#delete index"
   ]
  },
  {
   "cell_type": "code",
   "execution_count": 34,
   "id": "1d127cc3",
   "metadata": {},
   "outputs": [
    {
     "name": "stdout",
     "output_type": "stream",
     "text": [
      "Index university-info deleted successfully.\n"
     ]
    }
   ],
   "source": [
    "from elasticsearch import Elasticsearch\n",
    "\n",
    "# Connect to the Elasticsearch server\n",
    "es = Elasticsearch(\"http://localhost:9200\")\n",
    "\n",
    "# The name of the index you want to delete\n",
    "index_name = \"university-info\"\n",
    "\n",
    "# Check if the index exists\n",
    "if es.indices.exists(index=index_name):\n",
    "    # Delete the index\n",
    "    response = es.indices.delete(index=index_name)\n",
    "    print(f\"Index {index_name} deleted successfully.\")\n",
    "else:\n",
    "    print(f\"Index {index_name} does not exist.\")\n"
   ]
  },
  {
   "cell_type": "code",
   "execution_count": null,
   "id": "87fc5471",
   "metadata": {},
   "outputs": [],
   "source": []
  },
  {
   "cell_type": "code",
   "execution_count": 7,
   "id": "e821c5dd",
   "metadata": {},
   "outputs": [],
   "source": [
    "model = SentenceTransformer('all-MiniLM-L6-v2')"
   ]
  },
  {
   "cell_type": "code",
   "execution_count": 8,
   "id": "a04ec711",
   "metadata": {},
   "outputs": [],
   "source": [
    "def get_similar_content(query, index_name=\"university-info\", top_n=3):\n",
    "    \"\"\"\n",
    "    Retrieve top_n similar contents from Elasticsearch based on the query embedding.\n",
    "    \"\"\"\n",
    "    # Convert the query to an embedding\n",
    "    query_embedding = model.encode(query).tolist()\n",
    "\n",
    "    # Construct the Elasticsearch query\n",
    "    script_query = {\n",
    "        \"script_score\": {\n",
    "            \"query\": {\"match_all\": {}},\n",
    "            \"script\": {\n",
    "                \"source\": \"cosineSimilarity(params.query_vector, 'embedding') + 1.0\",\n",
    "                \"params\": {\"query_vector\": query_embedding}\n",
    "            }\n",
    "        }\n",
    "    }\n",
    "    \n",
    "    # Perform the search\n",
    "    response = es.search(\n",
    "        index=index_name,\n",
    "        body={\n",
    "            \"query\": script_query,\n",
    "            \"_source\": [\"Section\", \"Content\", \"URL\"],  # Including URL in the fields to retrieve\n",
    "            \"size\": top_n\n",
    "        }\n",
    "    )\n",
    "    \n",
    "    # Extract and return results\n",
    "    results = [(hit['_source']['Section'], hit['_source']['Content'], hit['_source']['URL'], hit['_score']) for hit in response['hits']['hits']]\n",
    "    return results\n"
   ]
  },
  {
   "cell_type": "code",
   "execution_count": 9,
   "id": "defc6173",
   "metadata": {},
   "outputs": [
    {
     "name": "stdout",
     "output_type": "stream",
     "text": [
      "Time to find similar content: 0.5200 seconds\n",
      "[('Improving Academic English', \"Want to get more comfortable with academic English? Our classes are specially tailored to boost your language and communication skills for the academic challenges ahead. It's all about giving you the support you need to thrive in your English-language studies.\", 'https://www.dundee.ac.uk/subjects/english-international-students', 1.6384487), ('Accessing Language Support', 'Dive into the world of English language support with our free EIS (English for International Students) classes. Scan the QR code or visit our website to start your journey to language mastery!', 'https://www.dundee.ac.uk/subjects/english-international-students', 1.5807527), ('Contact for English Support', \"Questions about our English language classes? We're just an email away. Reach out to eis@dundee.ac.uk and let's chat about how we can help you with your English.\", 'https://www.dundee.ac.uk/subjects/english-international-students', 1.4552369)]\n"
     ]
    },
    {
     "name": "stderr",
     "output_type": "stream",
     "text": [
      "C:\\Users\\user\\anaconda3\\lib\\site-packages\\elasticsearch\\connection\\base.py:208: ElasticsearchWarning: Elasticsearch built-in security features are not enabled. Without authentication, your cluster could be accessible to anyone. See https://www.elastic.co/guide/en/elasticsearch/reference/7.17/security-minimal-setup.html to enable security.\n",
      "  warnings.warn(message, category=ElasticsearchWarning)\n"
     ]
    }
   ],
   "source": [
    "import time\n",
    "\n",
    "user_query = \"I'm an international student; how do I enroll in English language classes?\"\n",
    "\n",
    "start_time = time.time()  \n",
    "similar_contents = get_similar_content(user_query)\n",
    "end_time = time.time()  \n",
    "\n",
    "elapsed_time = end_time - start_time\n",
    "\n",
    "print(f\"Time to find similar content: {elapsed_time:.4f} seconds\")\n",
    "print(similar_contents)  "
   ]
  },
  {
   "cell_type": "code",
   "execution_count": 166,
   "id": "4a05cd0e",
   "metadata": {},
   "outputs": [
    {
     "name": "stdout",
     "output_type": "stream",
     "text": [
      "Section: Improving Academic English\n",
      "Content: Want to get more comfortable with academic English? Our classes are specially tailored to boost your language and communication skills for the academic challenges ahead. It's all about giving you the support you need to thrive in your English-language studies.\n",
      "URL: https://www.dundee.ac.uk/subjects/english-international-students\n",
      "Score: 1.6384487\n",
      "\n",
      "Section: Accessing Language Support\n",
      "Content: Dive into the world of English language support with our free EIS (English for International Students) classes. Scan the QR code or visit our website to start your journey to language mastery!\n",
      "URL: https://www.dundee.ac.uk/subjects/english-international-students\n",
      "Score: 1.5807527\n",
      "\n",
      "Section: Contact for English Support\n",
      "Content: Questions about our English language classes? We're just an email away. Reach out to eis@dundee.ac.uk and let's chat about how we can help you with your English.\n",
      "URL: https://www.dundee.ac.uk/subjects/english-international-students\n",
      "Score: 1.4552369\n",
      "\n"
     ]
    }
   ],
   "source": [
    "\n",
    "# Output the results\n",
    "for section, content, url, score in similar_contents:\n",
    "    print(f\"Section: {section}\\nContent: {content}\\nURL: {url}\\nScore: {score}\\n\")"
   ]
  },
  {
   "cell_type": "code",
   "execution_count": null,
   "id": "2491c123",
   "metadata": {},
   "outputs": [],
   "source": []
  },
  {
   "cell_type": "code",
   "execution_count": null,
   "id": "3f5e2482",
   "metadata": {},
   "outputs": [],
   "source": []
  },
  {
   "cell_type": "code",
   "execution_count": null,
   "id": "9fafb1eb",
   "metadata": {},
   "outputs": [],
   "source": []
  },
  {
   "cell_type": "code",
   "execution_count": null,
   "id": "89ad48f9",
   "metadata": {},
   "outputs": [],
   "source": []
  },
  {
   "cell_type": "code",
   "execution_count": null,
   "id": "fd514170",
   "metadata": {},
   "outputs": [],
   "source": []
  },
  {
   "cell_type": "code",
   "execution_count": null,
   "id": "db4d1cba",
   "metadata": {},
   "outputs": [],
   "source": []
  },
  {
   "cell_type": "code",
   "execution_count": null,
   "id": "578b33a5",
   "metadata": {},
   "outputs": [],
   "source": []
  },
  {
   "cell_type": "code",
   "execution_count": null,
   "id": "2e5b9fee",
   "metadata": {},
   "outputs": [],
   "source": []
  },
  {
   "cell_type": "code",
   "execution_count": null,
   "id": "d72b6f14",
   "metadata": {},
   "outputs": [],
   "source": []
  },
  {
   "cell_type": "code",
   "execution_count": 12,
   "id": "a7d642a7",
   "metadata": {},
   "outputs": [
    {
     "name": "stdout",
     "output_type": "stream",
     "text": [
      "{'university-info': {'mappings': {'properties': {'category': {'type': 'keyword'}, 'content': {'type': 'text'}, 'embedding': {'type': 'dense_vector', 'dims': 384}, 'section': {'type': 'text'}, 'tags': {'type': 'keyword'}}}}}\n"
     ]
    }
   ],
   "source": [
    "from elasticsearch import Elasticsearch\n",
    "\n",
    "# Connect to your Elasticsearch instance\n",
    "es = Elasticsearch(\"http://localhost:9200\")\n",
    "\n",
    "# Get and print the mappings for the university-info index\n",
    "response = es.indices.get_mapping(index=\"university-info\")\n",
    "print(response)\n"
   ]
  },
  {
   "cell_type": "code",
   "execution_count": null,
   "id": "702fede5",
   "metadata": {},
   "outputs": [],
   "source": []
  },
  {
   "cell_type": "code",
   "execution_count": null,
   "id": "cc158897",
   "metadata": {},
   "outputs": [],
   "source": []
  },
  {
   "cell_type": "code",
   "execution_count": null,
   "id": "25c23369",
   "metadata": {},
   "outputs": [],
   "source": []
  },
  {
   "cell_type": "code",
   "execution_count": null,
   "id": "054d8cac",
   "metadata": {},
   "outputs": [],
   "source": []
  },
  {
   "cell_type": "code",
   "execution_count": 18,
   "id": "5ec4c739",
   "metadata": {},
   "outputs": [
    {
     "ename": "RequestError",
     "evalue": "RequestError(400, 'search_phase_execution_exception', 'compile error')",
     "output_type": "error",
     "traceback": [
      "\u001b[1;31m---------------------------------------------------------------------------\u001b[0m",
      "\u001b[1;31mRequestError\u001b[0m                              Traceback (most recent call last)",
      "Cell \u001b[1;32mIn[18], line 44\u001b[0m\n\u001b[0;32m     42\u001b[0m \u001b[38;5;66;03m# Example usage\u001b[39;00m\n\u001b[0;32m     43\u001b[0m user_query \u001b[38;5;241m=\u001b[39m \u001b[38;5;124m\"\u001b[39m\u001b[38;5;124mHow can I get financial aid?\u001b[39m\u001b[38;5;124m\"\u001b[39m  \u001b[38;5;66;03m# Example user query\u001b[39;00m\n\u001b[1;32m---> 44\u001b[0m similar_contents \u001b[38;5;241m=\u001b[39m \u001b[43mget_similar_content_with_fixed_vector\u001b[49m\u001b[43m(\u001b[49m\u001b[43muser_query\u001b[49m\u001b[43m)\u001b[49m  \u001b[38;5;66;03m# Get contents using the fixed vector\u001b[39;00m\n\u001b[0;32m     46\u001b[0m \u001b[38;5;66;03m# Output the results\u001b[39;00m\n\u001b[0;32m     47\u001b[0m \u001b[38;5;28;01mfor\u001b[39;00m section, content, score \u001b[38;5;129;01min\u001b[39;00m similar_contents:\n",
      "Cell \u001b[1;32mIn[18], line 29\u001b[0m, in \u001b[0;36mget_similar_content_with_fixed_vector\u001b[1;34m(query, index_name, top_n, vector_dimension)\u001b[0m\n\u001b[0;32m     16\u001b[0m script_query \u001b[38;5;241m=\u001b[39m {\n\u001b[0;32m     17\u001b[0m     \u001b[38;5;124m\"\u001b[39m\u001b[38;5;124mscript_score\u001b[39m\u001b[38;5;124m\"\u001b[39m: {\n\u001b[0;32m     18\u001b[0m         \u001b[38;5;124m\"\u001b[39m\u001b[38;5;124mquery\u001b[39m\u001b[38;5;124m\"\u001b[39m: {\u001b[38;5;124m\"\u001b[39m\u001b[38;5;124mmatch_all\u001b[39m\u001b[38;5;124m\"\u001b[39m: {}},\n\u001b[1;32m   (...)\u001b[0m\n\u001b[0;32m     25\u001b[0m     }\n\u001b[0;32m     26\u001b[0m }\n\u001b[0;32m     28\u001b[0m \u001b[38;5;66;03m# Perform the search with the modified script\u001b[39;00m\n\u001b[1;32m---> 29\u001b[0m response \u001b[38;5;241m=\u001b[39m \u001b[43mes\u001b[49m\u001b[38;5;241;43m.\u001b[39;49m\u001b[43msearch\u001b[49m\u001b[43m(\u001b[49m\n\u001b[0;32m     30\u001b[0m \u001b[43m    \u001b[49m\u001b[43mindex\u001b[49m\u001b[38;5;241;43m=\u001b[39;49m\u001b[43mindex_name\u001b[49m\u001b[43m,\u001b[49m\n\u001b[0;32m     31\u001b[0m \u001b[43m    \u001b[49m\u001b[43mbody\u001b[49m\u001b[38;5;241;43m=\u001b[39;49m\u001b[43m{\u001b[49m\n\u001b[0;32m     32\u001b[0m \u001b[43m        \u001b[49m\u001b[38;5;124;43m\"\u001b[39;49m\u001b[38;5;124;43mquery\u001b[39;49m\u001b[38;5;124;43m\"\u001b[39;49m\u001b[43m:\u001b[49m\u001b[43m \u001b[49m\u001b[43mscript_query\u001b[49m\u001b[43m,\u001b[49m\n\u001b[0;32m     33\u001b[0m \u001b[43m        \u001b[49m\u001b[38;5;124;43m\"\u001b[39;49m\u001b[38;5;124;43m_source\u001b[39;49m\u001b[38;5;124;43m\"\u001b[39;49m\u001b[43m:\u001b[49m\u001b[43m \u001b[49m\u001b[43m[\u001b[49m\u001b[38;5;124;43m\"\u001b[39;49m\u001b[38;5;124;43msection\u001b[39;49m\u001b[38;5;124;43m\"\u001b[39;49m\u001b[43m,\u001b[49m\u001b[43m \u001b[49m\u001b[38;5;124;43m\"\u001b[39;49m\u001b[38;5;124;43mcontent\u001b[39;49m\u001b[38;5;124;43m\"\u001b[39;49m\u001b[43m]\u001b[49m\u001b[43m,\u001b[49m\u001b[43m  \u001b[49m\u001b[38;5;66;43;03m# Adjust based on fields you want to retrieve\u001b[39;49;00m\n\u001b[0;32m     34\u001b[0m \u001b[43m        \u001b[49m\u001b[38;5;124;43m\"\u001b[39;49m\u001b[38;5;124;43msize\u001b[39;49m\u001b[38;5;124;43m\"\u001b[39;49m\u001b[43m:\u001b[49m\u001b[43m \u001b[49m\u001b[43mtop_n\u001b[49m\n\u001b[0;32m     35\u001b[0m \u001b[43m    \u001b[49m\u001b[43m}\u001b[49m\n\u001b[0;32m     36\u001b[0m \u001b[43m\u001b[49m\u001b[43m)\u001b[49m\n\u001b[0;32m     38\u001b[0m \u001b[38;5;66;03m# Extract and return results\u001b[39;00m\n\u001b[0;32m     39\u001b[0m results \u001b[38;5;241m=\u001b[39m [(hit[\u001b[38;5;124m'\u001b[39m\u001b[38;5;124m_source\u001b[39m\u001b[38;5;124m'\u001b[39m]\u001b[38;5;241m.\u001b[39mget(\u001b[38;5;124m'\u001b[39m\u001b[38;5;124msection\u001b[39m\u001b[38;5;124m'\u001b[39m, \u001b[38;5;124m'\u001b[39m\u001b[38;5;124mNo section\u001b[39m\u001b[38;5;124m'\u001b[39m), hit[\u001b[38;5;124m'\u001b[39m\u001b[38;5;124m_source\u001b[39m\u001b[38;5;124m'\u001b[39m]\u001b[38;5;241m.\u001b[39mget(\u001b[38;5;124m'\u001b[39m\u001b[38;5;124mcontent\u001b[39m\u001b[38;5;124m'\u001b[39m, \u001b[38;5;124m'\u001b[39m\u001b[38;5;124mNo content\u001b[39m\u001b[38;5;124m'\u001b[39m), hit[\u001b[38;5;124m'\u001b[39m\u001b[38;5;124m_score\u001b[39m\u001b[38;5;124m'\u001b[39m]) \u001b[38;5;28;01mfor\u001b[39;00m hit \u001b[38;5;129;01min\u001b[39;00m response[\u001b[38;5;124m'\u001b[39m\u001b[38;5;124mhits\u001b[39m\u001b[38;5;124m'\u001b[39m][\u001b[38;5;124m'\u001b[39m\u001b[38;5;124mhits\u001b[39m\u001b[38;5;124m'\u001b[39m]]\n",
      "File \u001b[1;32m~\\anaconda3\\lib\\site-packages\\elasticsearch\\client\\utils.py:168\u001b[0m, in \u001b[0;36mquery_params.<locals>._wrapper.<locals>._wrapped\u001b[1;34m(*args, **kwargs)\u001b[0m\n\u001b[0;32m    166\u001b[0m     \u001b[38;5;28;01mif\u001b[39;00m p \u001b[38;5;129;01min\u001b[39;00m kwargs:\n\u001b[0;32m    167\u001b[0m         params[p] \u001b[38;5;241m=\u001b[39m kwargs\u001b[38;5;241m.\u001b[39mpop(p)\n\u001b[1;32m--> 168\u001b[0m \u001b[38;5;28;01mreturn\u001b[39;00m func(\u001b[38;5;241m*\u001b[39margs, params\u001b[38;5;241m=\u001b[39mparams, headers\u001b[38;5;241m=\u001b[39mheaders, \u001b[38;5;241m*\u001b[39m\u001b[38;5;241m*\u001b[39mkwargs)\n",
      "File \u001b[1;32m~\\anaconda3\\lib\\site-packages\\elasticsearch\\client\\__init__.py:1670\u001b[0m, in \u001b[0;36mElasticsearch.search\u001b[1;34m(self, body, index, doc_type, params, headers)\u001b[0m\n\u001b[0;32m   1667\u001b[0m \u001b[38;5;28;01mif\u001b[39;00m \u001b[38;5;124m\"\u001b[39m\u001b[38;5;124mfrom_\u001b[39m\u001b[38;5;124m\"\u001b[39m \u001b[38;5;129;01min\u001b[39;00m params:\n\u001b[0;32m   1668\u001b[0m     params[\u001b[38;5;124m\"\u001b[39m\u001b[38;5;124mfrom\u001b[39m\u001b[38;5;124m\"\u001b[39m] \u001b[38;5;241m=\u001b[39m params\u001b[38;5;241m.\u001b[39mpop(\u001b[38;5;124m\"\u001b[39m\u001b[38;5;124mfrom_\u001b[39m\u001b[38;5;124m\"\u001b[39m)\n\u001b[1;32m-> 1670\u001b[0m \u001b[38;5;28;01mreturn\u001b[39;00m \u001b[38;5;28;43mself\u001b[39;49m\u001b[38;5;241;43m.\u001b[39;49m\u001b[43mtransport\u001b[49m\u001b[38;5;241;43m.\u001b[39;49m\u001b[43mperform_request\u001b[49m\u001b[43m(\u001b[49m\n\u001b[0;32m   1671\u001b[0m \u001b[43m    \u001b[49m\u001b[38;5;124;43m\"\u001b[39;49m\u001b[38;5;124;43mPOST\u001b[39;49m\u001b[38;5;124;43m\"\u001b[39;49m\u001b[43m,\u001b[49m\n\u001b[0;32m   1672\u001b[0m \u001b[43m    \u001b[49m\u001b[43m_make_path\u001b[49m\u001b[43m(\u001b[49m\u001b[43mindex\u001b[49m\u001b[43m,\u001b[49m\u001b[43m \u001b[49m\u001b[43mdoc_type\u001b[49m\u001b[43m,\u001b[49m\u001b[43m \u001b[49m\u001b[38;5;124;43m\"\u001b[39;49m\u001b[38;5;124;43m_search\u001b[39;49m\u001b[38;5;124;43m\"\u001b[39;49m\u001b[43m)\u001b[49m\u001b[43m,\u001b[49m\n\u001b[0;32m   1673\u001b[0m \u001b[43m    \u001b[49m\u001b[43mparams\u001b[49m\u001b[38;5;241;43m=\u001b[39;49m\u001b[43mparams\u001b[49m\u001b[43m,\u001b[49m\n\u001b[0;32m   1674\u001b[0m \u001b[43m    \u001b[49m\u001b[43mheaders\u001b[49m\u001b[38;5;241;43m=\u001b[39;49m\u001b[43mheaders\u001b[49m\u001b[43m,\u001b[49m\n\u001b[0;32m   1675\u001b[0m \u001b[43m    \u001b[49m\u001b[43mbody\u001b[49m\u001b[38;5;241;43m=\u001b[39;49m\u001b[43mbody\u001b[49m\u001b[43m,\u001b[49m\n\u001b[0;32m   1676\u001b[0m \u001b[43m\u001b[49m\u001b[43m)\u001b[49m\n",
      "File \u001b[1;32m~\\anaconda3\\lib\\site-packages\\elasticsearch\\transport.py:415\u001b[0m, in \u001b[0;36mTransport.perform_request\u001b[1;34m(self, method, url, headers, params, body)\u001b[0m\n\u001b[0;32m    413\u001b[0m             \u001b[38;5;28;01mraise\u001b[39;00m e\n\u001b[0;32m    414\u001b[0m     \u001b[38;5;28;01melse\u001b[39;00m:\n\u001b[1;32m--> 415\u001b[0m         \u001b[38;5;28;01mraise\u001b[39;00m e\n\u001b[0;32m    417\u001b[0m \u001b[38;5;28;01melse\u001b[39;00m:\n\u001b[0;32m    418\u001b[0m     \u001b[38;5;66;03m# connection didn't fail, confirm it's live status\u001b[39;00m\n\u001b[0;32m    419\u001b[0m     \u001b[38;5;28mself\u001b[39m\u001b[38;5;241m.\u001b[39mconnection_pool\u001b[38;5;241m.\u001b[39mmark_live(connection)\n",
      "File \u001b[1;32m~\\anaconda3\\lib\\site-packages\\elasticsearch\\transport.py:381\u001b[0m, in \u001b[0;36mTransport.perform_request\u001b[1;34m(self, method, url, headers, params, body)\u001b[0m\n\u001b[0;32m    378\u001b[0m connection \u001b[38;5;241m=\u001b[39m \u001b[38;5;28mself\u001b[39m\u001b[38;5;241m.\u001b[39mget_connection()\n\u001b[0;32m    380\u001b[0m \u001b[38;5;28;01mtry\u001b[39;00m:\n\u001b[1;32m--> 381\u001b[0m     status, headers_response, data \u001b[38;5;241m=\u001b[39m \u001b[43mconnection\u001b[49m\u001b[38;5;241;43m.\u001b[39;49m\u001b[43mperform_request\u001b[49m\u001b[43m(\u001b[49m\n\u001b[0;32m    382\u001b[0m \u001b[43m        \u001b[49m\u001b[43mmethod\u001b[49m\u001b[43m,\u001b[49m\n\u001b[0;32m    383\u001b[0m \u001b[43m        \u001b[49m\u001b[43murl\u001b[49m\u001b[43m,\u001b[49m\n\u001b[0;32m    384\u001b[0m \u001b[43m        \u001b[49m\u001b[43mparams\u001b[49m\u001b[43m,\u001b[49m\n\u001b[0;32m    385\u001b[0m \u001b[43m        \u001b[49m\u001b[43mbody\u001b[49m\u001b[43m,\u001b[49m\n\u001b[0;32m    386\u001b[0m \u001b[43m        \u001b[49m\u001b[43mheaders\u001b[49m\u001b[38;5;241;43m=\u001b[39;49m\u001b[43mheaders\u001b[49m\u001b[43m,\u001b[49m\n\u001b[0;32m    387\u001b[0m \u001b[43m        \u001b[49m\u001b[43mignore\u001b[49m\u001b[38;5;241;43m=\u001b[39;49m\u001b[43mignore\u001b[49m\u001b[43m,\u001b[49m\n\u001b[0;32m    388\u001b[0m \u001b[43m        \u001b[49m\u001b[43mtimeout\u001b[49m\u001b[38;5;241;43m=\u001b[39;49m\u001b[43mtimeout\u001b[49m\u001b[43m,\u001b[49m\n\u001b[0;32m    389\u001b[0m \u001b[43m    \u001b[49m\u001b[43m)\u001b[49m\n\u001b[0;32m    391\u001b[0m \u001b[38;5;28;01mexcept\u001b[39;00m TransportError \u001b[38;5;28;01mas\u001b[39;00m e:\n\u001b[0;32m    392\u001b[0m     \u001b[38;5;28;01mif\u001b[39;00m method \u001b[38;5;241m==\u001b[39m \u001b[38;5;124m\"\u001b[39m\u001b[38;5;124mHEAD\u001b[39m\u001b[38;5;124m\"\u001b[39m \u001b[38;5;129;01mand\u001b[39;00m e\u001b[38;5;241m.\u001b[39mstatus_code \u001b[38;5;241m==\u001b[39m \u001b[38;5;241m404\u001b[39m:\n",
      "File \u001b[1;32m~\\anaconda3\\lib\\site-packages\\elasticsearch\\connection\\http_urllib3.py:277\u001b[0m, in \u001b[0;36mUrllib3HttpConnection.perform_request\u001b[1;34m(self, method, url, params, body, timeout, ignore, headers)\u001b[0m\n\u001b[0;32m    273\u001b[0m \u001b[38;5;28;01mif\u001b[39;00m \u001b[38;5;129;01mnot\u001b[39;00m (\u001b[38;5;241m200\u001b[39m \u001b[38;5;241m<\u001b[39m\u001b[38;5;241m=\u001b[39m response\u001b[38;5;241m.\u001b[39mstatus \u001b[38;5;241m<\u001b[39m \u001b[38;5;241m300\u001b[39m) \u001b[38;5;129;01mand\u001b[39;00m response\u001b[38;5;241m.\u001b[39mstatus \u001b[38;5;129;01mnot\u001b[39;00m \u001b[38;5;129;01min\u001b[39;00m ignore:\n\u001b[0;32m    274\u001b[0m     \u001b[38;5;28mself\u001b[39m\u001b[38;5;241m.\u001b[39mlog_request_fail(\n\u001b[0;32m    275\u001b[0m         method, full_url, url, orig_body, duration, response\u001b[38;5;241m.\u001b[39mstatus, raw_data\n\u001b[0;32m    276\u001b[0m     )\n\u001b[1;32m--> 277\u001b[0m     \u001b[38;5;28;43mself\u001b[39;49m\u001b[38;5;241;43m.\u001b[39;49m\u001b[43m_raise_error\u001b[49m\u001b[43m(\u001b[49m\u001b[43mresponse\u001b[49m\u001b[38;5;241;43m.\u001b[39;49m\u001b[43mstatus\u001b[49m\u001b[43m,\u001b[49m\u001b[43m \u001b[49m\u001b[43mraw_data\u001b[49m\u001b[43m)\u001b[49m\n\u001b[0;32m    279\u001b[0m \u001b[38;5;28mself\u001b[39m\u001b[38;5;241m.\u001b[39mlog_request_success(\n\u001b[0;32m    280\u001b[0m     method, full_url, url, orig_body, response\u001b[38;5;241m.\u001b[39mstatus, raw_data, duration\n\u001b[0;32m    281\u001b[0m )\n\u001b[0;32m    283\u001b[0m \u001b[38;5;28;01mreturn\u001b[39;00m response\u001b[38;5;241m.\u001b[39mstatus, response\u001b[38;5;241m.\u001b[39mgetheaders(), raw_data\n",
      "File \u001b[1;32m~\\anaconda3\\lib\\site-packages\\elasticsearch\\connection\\base.py:330\u001b[0m, in \u001b[0;36mConnection._raise_error\u001b[1;34m(self, status_code, raw_data)\u001b[0m\n\u001b[0;32m    327\u001b[0m \u001b[38;5;28;01mexcept\u001b[39;00m (\u001b[38;5;167;01mValueError\u001b[39;00m, \u001b[38;5;167;01mTypeError\u001b[39;00m) \u001b[38;5;28;01mas\u001b[39;00m err:\n\u001b[0;32m    328\u001b[0m     logger\u001b[38;5;241m.\u001b[39mwarning(\u001b[38;5;124m\"\u001b[39m\u001b[38;5;124mUndecodable raw error response from server: \u001b[39m\u001b[38;5;132;01m%s\u001b[39;00m\u001b[38;5;124m\"\u001b[39m, err)\n\u001b[1;32m--> 330\u001b[0m \u001b[38;5;28;01mraise\u001b[39;00m HTTP_EXCEPTIONS\u001b[38;5;241m.\u001b[39mget(status_code, TransportError)(\n\u001b[0;32m    331\u001b[0m     status_code, error_message, additional_info\n\u001b[0;32m    332\u001b[0m )\n",
      "\u001b[1;31mRequestError\u001b[0m: RequestError(400, 'search_phase_execution_exception', 'compile error')"
     ]
    }
   ],
   "source": [
    "from elasticsearch import Elasticsearch\n",
    "from sentence_transformers import SentenceTransformer\n",
    "\n",
    "# Initialize the Elasticsearch client\n",
    "es = Elasticsearch(\"http://localhost:9200\")\n",
    "\n",
    "# Function for testing the modified script_score query\n",
    "def get_similar_content_with_fixed_vector(query, index_name=\"university-info\", top_n=3, vector_dimension=384):\n",
    "    \"\"\"\n",
    "    Retrieve top_n similar contents from Elasticsearch based on a fixed vector in the script query.\n",
    "    \"\"\"\n",
    "    # Fixed query vector composed of 1s\n",
    "    fixed_query_vector = [1] * vector_dimension\n",
    "\n",
    "    # Construct the Elasticsearch query using the fixed vector\n",
    "    script_query = {\n",
    "        \"script_score\": {\n",
    "            \"query\": {\"match_all\": {}},\n",
    "            \"script\": {\n",
    "                \"source\": \"cosineSimilarity(params.query_vector, 'embedding') + 1.0\",\n",
    "                \"params\": {\n",
    "                    \"query_vector\": fixed_query_vector\n",
    "                }\n",
    "            }\n",
    "        }\n",
    "    }\n",
    "    \n",
    "    # Perform the search with the modified script\n",
    "    response = es.search(\n",
    "        index=index_name,\n",
    "        body={\n",
    "            \"query\": script_query,\n",
    "            \"_source\": [\"section\", \"content\"],  # Adjust based on fields you want to retrieve\n",
    "            \"size\": top_n\n",
    "        }\n",
    "    )\n",
    "    \n",
    "    # Extract and return results\n",
    "    results = [(hit['_source'].get('section', 'No section'), hit['_source'].get('content', 'No content'), hit['_score']) for hit in response['hits']['hits']]\n",
    "    return results\n",
    "\n",
    "# Example usage\n",
    "user_query = \"How can I get financial aid?\"  # Example user query\n",
    "similar_contents = get_similar_content_with_fixed_vector(user_query)  # Get contents using the fixed vector\n",
    "\n",
    "# Output the results\n",
    "for section, content, score in similar_contents:\n",
    "    print(f\"Section: {section}\\nContent: {content}\\nScore: {score}\\n\")\n"
   ]
  },
  {
   "cell_type": "code",
   "execution_count": null,
   "id": "edfb65d5",
   "metadata": {},
   "outputs": [],
   "source": []
  },
  {
   "cell_type": "code",
   "execution_count": null,
   "id": "39d29997",
   "metadata": {},
   "outputs": [],
   "source": []
  },
  {
   "cell_type": "code",
   "execution_count": 100,
   "id": "0c115cbe",
   "metadata": {},
   "outputs": [],
   "source": [
    "#replace queryy"
   ]
  },
  {
   "cell_type": "code",
   "execution_count": 106,
   "id": "489bb9d2",
   "metadata": {},
   "outputs": [
    {
     "name": "stdout",
     "output_type": "stream",
     "text": [
      "URL in document UmUlo44BAPln75ubdzgy updated.\n",
      "URL in document U2Ulo44BAPln75ubezg3 updated.\n",
      "URL in document VWU1o44BAPln75ubTTjv updated.\n",
      "URL in document V2U1o44BAPln75ubVTgb updated.\n",
      "All matching documents updated.\n"
     ]
    }
   ],
   "source": [
    "from elasticsearch import Elasticsearch\n",
    "\n",
    "# Initialize Elasticsearch client\n",
    "# es = Elasticsearch()\n",
    "\n",
    "# Define the index and query\n",
    "# index_name = \"your_index_name\"\n",
    "query = {\n",
    "    \"query\": {\n",
    "        \"match\": {\n",
    "            \"Section\": \"Debt Support Services\"\n",
    "        }\n",
    "    }\n",
    "}\n",
    "\n",
    "# Search for documents\n",
    "search_results = es.search(index=index_name, body=query)\n",
    "\n",
    "# Iterate through search results\n",
    "for hit in search_results['hits']['hits']:\n",
    "    doc_id = hit['_id']\n",
    "    content = hit['_source']['Content']\n",
    "    section = hit['_source']['Section']\n",
    "    \n",
    "    # Update the URL to the new URL\n",
    "    new_url = 'https://www.dundee.ac.uk/student-funding'\n",
    "    es.update(index=index_name, id=doc_id, body={\"doc\": {\"URL\": new_url}})\n",
    "    print(f\"URL in document {doc_id} updated.\")\n",
    "\n",
    "print(\"All matching documents updated.\")\n"
   ]
  },
  {
   "cell_type": "code",
   "execution_count": null,
   "id": "003a6747",
   "metadata": {},
   "outputs": [],
   "source": []
  }
 ],
 "metadata": {
  "kernelspec": {
   "display_name": "Python 3 (ipykernel)",
   "language": "python",
   "name": "python3"
  },
  "language_info": {
   "codemirror_mode": {
    "name": "ipython",
    "version": 3
   },
   "file_extension": ".py",
   "mimetype": "text/x-python",
   "name": "python",
   "nbconvert_exporter": "python",
   "pygments_lexer": "ipython3",
   "version": "3.9.13"
  }
 },
 "nbformat": 4,
 "nbformat_minor": 5
}
